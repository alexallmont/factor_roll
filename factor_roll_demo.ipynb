{
 "cells": [
  {
   "cell_type": "markdown",
   "metadata": {},
   "source": [
    "# Rolling Out Factors Demo\n",
    "\n",
    "This example code accompanies my wiki post http://www.alexallmont.com/rolling-out-factors/ which considers numbers as axis-aligned hypervolumes; the number of dimension is the number of factors, and the length along each axis is the length of that factor.\n",
    "    \n",
    "For example, '12' as a 12-length 1D object:\n",
    "      \n",
    "     ............\n",
    "    \n",
    "'12' as a 2x2x3-length 3D object:\n",
    "      \n",
    "     .'.'.'\n",
    "     .'.'.'\n"
   ]
  },
  {
   "cell_type": "code",
   "execution_count": 2,
   "metadata": {},
   "outputs": [],
   "source": [
    "def factors(n):\n",
    "    \"\"\"\n",
    "    Rolling Out Factors example\n",
    "    Alex Allmont 2020\n",
    "    Generate an array of factors for the given value\n",
    "    \"\"\"\n",
    "    result = []\n",
    "    rows = 2 # Stricly should be 1 at start, but will be 2 after first step\n",
    "    count = 0\n",
    "    while n > 0:\n",
    "        if count == n:\n",
    "            # Alignment, elevate factor checking to next dimension\n",
    "            result.append(rows)\n",
    "            rows = 2\n",
    "            count = 0\n",
    "        elif count > n:\n",
    "            # Width overrun, increase rows to accommodate\n",
    "            rows += 1\n",
    "            count = count - n\n",
    "        else:\n",
    "            # Reduce width, increase count depending on number of rows\n",
    "            # FIXME: this may be optimised by stepping by larger values,\n",
    "            # e.g., could estimate (n / rows) or heuristic-based.\n",
    "            n -= 1\n",
    "            count += rows - 1\n",
    "\n",
    "    return result"
   ]
  },
  {
   "cell_type": "markdown",
   "metadata": {},
   "source": [
    "# Example: factors 1-20"
   ]
  },
  {
   "cell_type": "code",
   "execution_count": 3,
   "metadata": {},
   "outputs": [
    {
     "name": "stdout",
     "output_type": "stream",
     "text": [
      "1 []\n",
      "2 [2]\n",
      "3 [3]\n",
      "4 [2, 2]\n",
      "5 [5]\n",
      "6 [2, 3]\n",
      "7 [7]\n",
      "8 [2, 2, 2]\n",
      "9 [3, 3]\n",
      "10 [2, 5]\n",
      "11 [11]\n",
      "12 [2, 2, 3]\n",
      "13 [13]\n",
      "14 [2, 7]\n",
      "15 [3, 5]\n",
      "16 [2, 2, 2, 2]\n",
      "17 [17]\n",
      "18 [2, 3, 3]\n",
      "19 [19]\n",
      "20 [2, 2, 5]\n"
     ]
    }
   ],
   "source": [
    "\n",
    "for i in range(20):\n",
    "    n = i + 1\n",
    "    print(n, factors(n))"
   ]
  },
  {
   "cell_type": "markdown",
   "metadata": {},
   "source": [
    "# Example various large factors"
   ]
  },
  {
   "cell_type": "code",
   "execution_count": 4,
   "metadata": {},
   "outputs": [
    {
     "name": "stdout",
     "output_type": "stream",
     "text": [
      "[127, 9721]\n",
      "[19, 402859]\n"
     ]
    }
   ],
   "source": [
    "print(factors(1234567))\n",
    "print(factors(7654321))"
   ]
  },
  {
   "cell_type": "markdown",
   "metadata": {},
   "source": [
    "# Prime and compound number tests"
   ]
  },
  {
   "cell_type": "code",
   "execution_count": 5,
   "metadata": {},
   "outputs": [
    {
     "name": "stdout",
     "output_type": "stream",
     "text": [
      "False\n",
      "True\n"
     ]
    }
   ],
   "source": [
    "def is_prime(n):\n",
    "    \"\"\"\n",
    "    Determine if numer is prime\n",
    "    \"\"\"\n",
    "    return len(factors(n)) == 1\n",
    "\n",
    "\n",
    "def is_compound(n):\n",
    "    \"\"\"\n",
    "    Determine if number is compound\n",
    "    \"\"\"\n",
    "    return not is_prime(n)\n",
    "\n",
    "\n",
    "print(is_prime(9))\n",
    "print(is_compound(9))"
   ]
  }
 ],
 "metadata": {
  "kernelspec": {
   "display_name": "Python 3",
   "language": "python",
   "name": "python3"
  },
  "language_info": {
   "codemirror_mode": {
    "name": "ipython",
    "version": 3
   },
   "file_extension": ".py",
   "mimetype": "text/x-python",
   "name": "python",
   "nbconvert_exporter": "python",
   "pygments_lexer": "ipython3",
   "version": "3.7.5"
  }
 },
 "nbformat": 4,
 "nbformat_minor": 2
}
